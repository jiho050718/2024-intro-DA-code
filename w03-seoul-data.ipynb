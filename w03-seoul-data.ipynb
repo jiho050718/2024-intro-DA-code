{
 "cells": [
  {
   "cell_type": "code",
   "execution_count": 10,
   "metadata": {},
   "outputs": [
    {
     "name": "stdout",
     "output_type": "stream",
     "text": [
      "온도가 가장 높은 일자: \t2018-08-01\n",
      "가장 높은 온도: 39.6℃\n"
     ]
    }
   ],
   "source": [
    "import csv\n",
    "\n",
    "# CSV 파일 경로\n",
    "file_path = 'seoul.csv'  # 파일 경로를 여기에 입력하세요\n",
    "\n",
    "# 변수 초기화\n",
    "max_temp = float('-inf')  # 가장 높은 온도를 무한히 작은 값으로 초기화\n",
    "max_temp_date = None  # 가장 높은 온도의 날짜\n",
    "\n",
    "# CSV 파일 읽기\n",
    "with open(file_path, 'r', encoding='cp949') as f:\n",
    "    reader = csv.DictReader(f)\n",
    "    for row in reader:\n",
    "        try:\n",
    "            temp = float(row['최고기온(℃)'])\n",
    "            if temp > max_temp:\n",
    "                max_temp = temp\n",
    "                max_temp_date = row['날짜']\n",
    "        except ValueError:\n",
    "            # 온도 값이 숫자가 아닌 경우 무시\n",
    "            continue\n",
    "\n",
    "# 결과 출력\n",
    "if max_temp_date is not None:\n",
    "    print(f\"온도가 가장 높은 일자: {max_temp_date}\")\n",
    "    print(f\"가장 높은 온도: {max_temp}℃\")\n",
    "else:\n",
    "    print(\"데이터를 읽어오는 데 문제가 발생했습니다.\")\n"
   ]
  },
  {
   "cell_type": "markdown",
   "metadata": {},
   "source": [
    "#### end of code"
   ]
  }
 ],
 "metadata": {
  "kernelspec": {
   "display_name": "base",
   "language": "python",
   "name": "python3"
  },
  "language_info": {
   "codemirror_mode": {
    "name": "ipython",
    "version": 3
   },
   "file_extension": ".py",
   "mimetype": "text/x-python",
   "name": "python",
   "nbconvert_exporter": "python",
   "pygments_lexer": "ipython3",
   "version": "3.12.4"
  }
 },
 "nbformat": 4,
 "nbformat_minor": 2
}
